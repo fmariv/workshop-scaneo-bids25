{
 "cells": [
  {
   "cell_type": "markdown",
   "metadata": {},
   "source": [
    "# Ingest an existing Dataset or Model\n"
   ]
  },
  {
   "cell_type": "markdown",
   "metadata": {},
   "source": [
    "In this notebook we are going to showcase how to ingest the dataset we created and labeled in previous notebooks\n",
    "\n",
    "Once it is ingested, you can use it in the same way as any other dataset or model in EOTDL (exploring, staging, etc.).\n"
   ]
  },
  {
   "cell_type": "markdown",
   "metadata": {},
   "source": [
    "## Ingesting through the CLI\n"
   ]
  },
  {
   "cell_type": "markdown",
   "metadata": {},
   "source": [
    "The recommended way to ingest a dataset is using the CLI.\n"
   ]
  },
  {
   "cell_type": "code",
   "execution_count": 1,
   "metadata": {},
   "outputs": [
    {
     "name": "stdout",
     "output_type": "stream",
     "text": [
      "\u001b[1m                                                                                \u001b[0m\n",
      "\u001b[1m \u001b[0m\u001b[1;33mUsage: \u001b[0m\u001b[1meotdl datasets ingest [OPTIONS]\u001b[0m\u001b[1m                                        \u001b[0m\u001b[1m \u001b[0m\n",
      "\u001b[1m                                                                                \u001b[0m\n",
      " Ingest a dataset to the EOTDL.asdf                                             \n",
      "                                                                                \n",
      " \u001b[2mThis command ingests the dataset to the EOTDL. The dataset must be a folder \u001b[0m   \n",
      " \u001b[2mwith the dataset files, and at least a README.md file (and a catalog.json file\u001b[0m \n",
      " \u001b[2mfor Q1+). If these files are missing, the ingestion will not work. All the \u001b[0m    \n",
      " \u001b[2mfiles in the folder will be uploaded to the EOTDL.\u001b[0m                             \n",
      "                                                                                \n",
      " \u001b[2mThe following constraints apply to the dataset name:\u001b[0m                           \n",
      " \u001b[2m- It must be unique\u001b[0m                                                            \n",
      " \u001b[2m- It must be between 3 and 45 characters long\u001b[0m                                  \n",
      " \u001b[2m- It can only contain alphanumeric characters and dashes.\u001b[0m                      \n",
      "                                                                                \n",
      " \u001b[2mThe README.md file must contain the following fields in the metadata header:\u001b[0m   \n",
      " \u001b[2m- name: the name of the dataset\u001b[0m                                                \n",
      " \u001b[2m- authors: the author or authors of the dataset\u001b[0m                                \n",
      " \u001b[2m- license: the license of the dataset\u001b[0m                                          \n",
      " \u001b[2m- source: the source of the dataset\u001b[0m                                            \n",
      " \u001b[2m- thumbnail: an image to use as the thumbnail of the dataset in the website\u001b[0m    \n",
      " \u001b[2mThe rest of the content in the README.md file will be used as the description \u001b[0m \n",
      " \u001b[2mof the dataset in the website. If using \u001b[0m\u001b[1;2;36m-\u001b[0m\u001b[1;2;36m-verbose\u001b[0m\u001b[2m, it will print the progress \u001b[0m \n",
      " \u001b[2mof the ingestion.\u001b[0m                                                              \n",
      "                                                                                \n",
      " \u001b[2mExamples\u001b[0m                                                                       \n",
      " \u001b[1;2;36m--------\u001b[0m                                                                       \n",
      " \u001b[2m$ eotdl dataset ingest \u001b[0m\u001b[1;2;36m-\u001b[0m\u001b[1;2;36m-path\u001b[0m\u001b[2m /path/to/folder-with-dataset \u001b[0m\u001b[1;2;36m-\u001b[0m\u001b[1;2;36m-verbose\u001b[0m\u001b[2m True\u001b[0m      \n",
      "                                                                                \n",
      "\u001b[2m╭─\u001b[0m\u001b[2m Options \u001b[0m\u001b[2m───────────────────────────────────────────────────────────────────\u001b[0m\u001b[2m─╮\u001b[0m\n",
      "\u001b[2m│\u001b[0m \u001b[31m*\u001b[0m  \u001b[1;36m-\u001b[0m\u001b[1;36m-path\u001b[0m         \u001b[1;32m-p\u001b[0m       \u001b[1;33mPATH\u001b[0m  Path to the dataset to ingest \u001b[2;31m[required]\u001b[0m    \u001b[2m│\u001b[0m\n",
      "\u001b[2m│\u001b[0m    \u001b[1;36m-\u001b[0m\u001b[1;36m-verbose\u001b[0m      \u001b[1;32m-v\u001b[0m       \u001b[1;33m    \u001b[0m  Verbose output. This will print the         \u001b[2m│\u001b[0m\n",
      "\u001b[2m│\u001b[0m                                  progress of the ingestion                   \u001b[2m│\u001b[0m\n",
      "\u001b[2m│\u001b[0m    \u001b[1;36m-\u001b[0m\u001b[1;36m-force\u001b[0m        \u001b[1;32m-f\u001b[0m       \u001b[1;33m    \u001b[0m  Force metadata update even if it already    \u001b[2m│\u001b[0m\n",
      "\u001b[2m│\u001b[0m                                  exists. Will overwrite the current metadata \u001b[2m│\u001b[0m\n",
      "\u001b[2m│\u001b[0m                                  in EOTDL                                    \u001b[2m│\u001b[0m\n",
      "\u001b[2m│\u001b[0m    \u001b[1;36m-\u001b[0m\u001b[1;36m-sync\u001b[0m         \u001b[1;32m-s\u001b[0m       \u001b[1;33m    \u001b[0m  Sync local metadata with the EOTDL. Will    \u001b[2m│\u001b[0m\n",
      "\u001b[2m│\u001b[0m                                  overwrite the local metadata                \u001b[2m│\u001b[0m\n",
      "\u001b[2m│\u001b[0m    \u001b[1;36m-\u001b[0m\u001b[1;36m-private\u001b[0m      \u001b[1;32m-pr\u001b[0m      \u001b[1;33m    \u001b[0m  Make dataset private                        \u001b[2m│\u001b[0m\n",
      "\u001b[2m│\u001b[0m    \u001b[1;36m-\u001b[0m\u001b[1;36m-ignore\u001b[0m\u001b[1;36m-stac\u001b[0m  \u001b[1;32m-is\u001b[0m      \u001b[1;33m    \u001b[0m  Ignore STAC catalog.json (if found) for     \u001b[2m│\u001b[0m\n",
      "\u001b[2m│\u001b[0m                                  geneating metadata.                         \u001b[2m│\u001b[0m\n",
      "\u001b[2m│\u001b[0m    \u001b[1;36m-\u001b[0m\u001b[1;36m-help\u001b[0m                  \u001b[1;33m    \u001b[0m  Show this message and exit.                 \u001b[2m│\u001b[0m\n",
      "\u001b[2m╰──────────────────────────────────────────────────────────────────────────────╯\u001b[0m\n",
      "\n"
     ]
    }
   ],
   "source": [
    "!eotdl datasets ingest --help"
   ]
  },
  {
   "cell_type": "markdown",
   "metadata": {},
   "source": [
    "In order to ingest a dataset you will need a folder in your system with the data you want to upload.\n"
   ]
  },
  {
   "cell_type": "code",
   "execution_count": 2,
   "metadata": {},
   "outputs": [
    {
     "name": "stdout",
     "output_type": "stream",
     "text": [
      "README.md          catalog.v1.parquet \u001b[1m\u001b[36mmodels\u001b[m\u001b[m             \u001b[1m\u001b[36msamples\u001b[m\u001b[m\n"
     ]
    }
   ],
   "source": [
    "!ls SCANEO"
   ]
  },
  {
   "cell_type": "markdown",
   "metadata": {},
   "source": [
    "A `README.md` file is required for datasets and models, containing some basic required information (dataset authors, licens, link to source and dataset name).\n"
   ]
  },
  {
   "cell_type": "code",
   "execution_count": 3,
   "metadata": {},
   "outputs": [
    {
     "name": "stdout",
     "output_type": "stream",
     "text": [
      "---\n",
      "name: SCANEO\n",
      "authors: \n",
      "  - Juan B. Pedro\n",
      "license: free\n",
      "source: https://github.com/earthpulse/scaneo\n",
      "---\n",
      "\n",
      "Models and sample data for the SCANEO labelling tool."
     ]
    }
   ],
   "source": [
    "!cat SCANEO/README.md"
   ]
  },
  {
   "cell_type": "markdown",
   "metadata": {},
   "source": [
    "We can create another `README.md` file with running the following cell:\n"
   ]
  },
  {
   "cell_type": "code",
   "execution_count": 4,
   "metadata": {},
   "outputs": [],
   "source": [
    "text = \"\"\"---\n",
    "name: scaneo-bids25\n",
    "authors: \n",
    "  - Fran Martín\n",
    "license: open\n",
    "source: https://github.com/earthpulse/eotdl/blob/develop/tutorials/workshops/lps25/02_training.ipynb\n",
    "---\n",
    "\n",
    "# SCANEO-bids25\n",
    "\n",
    "This is a toy dataset created and labeled with SCANEO in the BiDS 2025 tutorial.\n",
    "\"\"\"\n",
    "\n",
    "with open(\"SCANEO/README.md\", \"w\") as outfile:\n",
    "    outfile.write(text)"
   ]
  },
  {
   "cell_type": "markdown",
   "metadata": {},
   "source": [
    "The chosen name is the one that will appear in the repository, hence it must be unique, between 3 and 45 characters long and can only contain alphanumeric characters and dashes (learn more at [https://www.eotdl.com/docs/datasets/ingest](https://www.eotdl.com/docs/datasets/ingest)).\n",
    "\n",
    "Trying to ingest a dataset without a `README.md` file will fail.\n",
    "\n",
    "If everything is correct, the ingestion process should work.\n"
   ]
  },
  {
   "cell_type": "code",
   "execution_count": 5,
   "metadata": {},
   "outputs": [
    {
     "name": "stdout",
     "output_type": "stream",
     "text": [
      "Ingesting folder\n",
      "Ingesting directory: SCANEO\n",
      "Preparing files: 100%|██████████████████████████| 15/15 [00:00<00:00, 65.56it/s]\n",
      "Ingesting files: 100%|██████████████████████████| 13/13 [00:19<00:00,  1.47s/it]\n"
     ]
    }
   ],
   "source": [
    "!eotdl datasets ingest -p SCANEO"
   ]
  },
  {
   "cell_type": "markdown",
   "metadata": {},
   "source": [
    "And now your dataset is avilable at EOTDL\n"
   ]
  },
  {
   "cell_type": "code",
   "execution_count": 6,
   "metadata": {},
   "outputs": [
    {
     "name": "stdout",
     "output_type": "stream",
     "text": [
      "['scaneo-bids25']\n"
     ]
    }
   ],
   "source": [
    "!eotdl datasets list -n scaneo-bids25"
   ]
  },
  {
   "cell_type": "markdown",
   "metadata": {},
   "source": [
    "> Since the `scaneo-bids25` name is already taken, this process should fail for you. To solve it, just upload the dataset with a different name. However, this will polute the EOTDL with test datasets so we encourage you to try the ingestion process with a real dataset that you want to ingest (or overwrite your test dataset in the future with useful data). In any case, you can always delete the dataset from the EOTDL using the `DELETE` button in the UI.\n"
   ]
  },
  {
   "cell_type": "markdown",
   "metadata": {},
   "source": [
    "During the ingestion process, a `catalog.parquet` file is created with STAC metadata. If your dataset already has STAC metadata (a `catalog.json` file exists at the root of the dataset), the metadata will be parsed and added to the `catalog.parquet` file. Otherwise, the `CLI` will create a STAC-compatible metadata from the directory structure.\n"
   ]
  },
  {
   "cell_type": "code",
   "execution_count": 7,
   "metadata": {},
   "outputs": [
    {
     "data": {
      "text/html": [
       "<div>\n",
       "<style scoped>\n",
       "    .dataframe tbody tr th:only-of-type {\n",
       "        vertical-align: middle;\n",
       "    }\n",
       "\n",
       "    .dataframe tbody tr th {\n",
       "        vertical-align: top;\n",
       "    }\n",
       "\n",
       "    .dataframe thead th {\n",
       "        text-align: right;\n",
       "    }\n",
       "</style>\n",
       "<table border=\"1\" class=\"dataframe\">\n",
       "  <thead>\n",
       "    <tr style=\"text-align: right;\">\n",
       "      <th></th>\n",
       "      <th>type</th>\n",
       "      <th>stac_version</th>\n",
       "      <th>stac_extensions</th>\n",
       "      <th>datetime</th>\n",
       "      <th>id</th>\n",
       "      <th>bbox</th>\n",
       "      <th>geometry</th>\n",
       "      <th>assets</th>\n",
       "      <th>links</th>\n",
       "      <th>repository</th>\n",
       "    </tr>\n",
       "  </thead>\n",
       "  <tbody>\n",
       "    <tr>\n",
       "      <th>0</th>\n",
       "      <td>Feature</td>\n",
       "      <td>1.0.0</td>\n",
       "      <td>[]</td>\n",
       "      <td>2025-09-28 19:12:02.597560</td>\n",
       "      <td>README.md</td>\n",
       "      <td>{'xmax': 0.0, 'xmin': 0.0, 'ymax': 0.0, 'ymin'...</td>\n",
       "      <td>POLYGON EMPTY</td>\n",
       "      <td>{'asset': {'checksum': '37cff8869dbac8b8894148...</td>\n",
       "      <td>[]</td>\n",
       "      <td>eotdl</td>\n",
       "    </tr>\n",
       "    <tr>\n",
       "      <th>1</th>\n",
       "      <td>Feature</td>\n",
       "      <td>1.0.0</td>\n",
       "      <td>[]</td>\n",
       "      <td>2025-09-28 19:12:02.598612</td>\n",
       "      <td>catalog.v1.parquet</td>\n",
       "      <td>{'xmax': 0.0, 'xmin': 0.0, 'ymax': 0.0, 'ymin'...</td>\n",
       "      <td>POLYGON EMPTY</td>\n",
       "      <td>{'asset': {'checksum': '1e6ea39da4a5df0bde136f...</td>\n",
       "      <td>[]</td>\n",
       "      <td>eotdl</td>\n",
       "    </tr>\n",
       "    <tr>\n",
       "      <th>2</th>\n",
       "      <td>Feature</td>\n",
       "      <td>1.0.0</td>\n",
       "      <td>[]</td>\n",
       "      <td>2025-09-28 19:12:02.598848</td>\n",
       "      <td>models/hr-roads.onnx</td>\n",
       "      <td>{'xmax': 0.0, 'xmin': 0.0, 'ymax': 0.0, 'ymin'...</td>\n",
       "      <td>POLYGON EMPTY</td>\n",
       "      <td>{'asset': {'checksum': '99581a42cd56f66b1649f5...</td>\n",
       "      <td>[]</td>\n",
       "      <td>eotdl</td>\n",
       "    </tr>\n",
       "    <tr>\n",
       "      <th>3</th>\n",
       "      <td>Feature</td>\n",
       "      <td>1.0.0</td>\n",
       "      <td>[]</td>\n",
       "      <td>2025-09-28 19:12:02.735016</td>\n",
       "      <td>models/s2-roads.onnx</td>\n",
       "      <td>{'xmax': 0.0, 'xmin': 0.0, 'ymax': 0.0, 'ymin'...</td>\n",
       "      <td>POLYGON EMPTY</td>\n",
       "      <td>{'asset': {'checksum': 'f313a4bf02afd1a6b55829...</td>\n",
       "      <td>[]</td>\n",
       "      <td>eotdl</td>\n",
       "    </tr>\n",
       "    <tr>\n",
       "      <th>4</th>\n",
       "      <td>Feature</td>\n",
       "      <td>1.0.0</td>\n",
       "      <td>[]</td>\n",
       "      <td>2025-09-28 19:12:02.816535</td>\n",
       "      <td>samples/15928855_15.tif</td>\n",
       "      <td>{'xmax': 0.0, 'xmin': 0.0, 'ymax': 0.0, 'ymin'...</td>\n",
       "      <td>POLYGON EMPTY</td>\n",
       "      <td>{'asset': {'checksum': 'ea9975a5a26681e17d2e4f...</td>\n",
       "      <td>[]</td>\n",
       "      <td>eotdl</td>\n",
       "    </tr>\n",
       "    <tr>\n",
       "      <th>5</th>\n",
       "      <td>Feature</td>\n",
       "      <td>1.0.0</td>\n",
       "      <td>[]</td>\n",
       "      <td>2025-09-28 19:12:02.817615</td>\n",
       "      <td>samples/17878735_15.tif</td>\n",
       "      <td>{'xmax': 0.0, 'xmin': 0.0, 'ymax': 0.0, 'ymin'...</td>\n",
       "      <td>POLYGON EMPTY</td>\n",
       "      <td>{'asset': {'checksum': '618fafa07c048835e078fa...</td>\n",
       "      <td>[]</td>\n",
       "      <td>eotdl</td>\n",
       "    </tr>\n",
       "    <tr>\n",
       "      <th>6</th>\n",
       "      <td>Feature</td>\n",
       "      <td>1.0.0</td>\n",
       "      <td>[]</td>\n",
       "      <td>2025-09-28 19:12:02.818592</td>\n",
       "      <td>samples/22528900_15.tif</td>\n",
       "      <td>{'xmax': 0.0, 'xmin': 0.0, 'ymax': 0.0, 'ymin'...</td>\n",
       "      <td>POLYGON EMPTY</td>\n",
       "      <td>{'asset': {'checksum': '6ebd2a950152c5c0bc130b...</td>\n",
       "      <td>[]</td>\n",
       "      <td>eotdl</td>\n",
       "    </tr>\n",
       "    <tr>\n",
       "      <th>7</th>\n",
       "      <td>Feature</td>\n",
       "      <td>1.0.0</td>\n",
       "      <td>[]</td>\n",
       "      <td>2025-09-28 19:12:02.819825</td>\n",
       "      <td>samples/deep_globe.jpg</td>\n",
       "      <td>{'xmax': 0.0, 'xmin': 0.0, 'ymax': 0.0, 'ymin'...</td>\n",
       "      <td>POLYGON EMPTY</td>\n",
       "      <td>{'asset': {'checksum': '58f3fcd558510ad5888e2e...</td>\n",
       "      <td>[]</td>\n",
       "      <td>eotdl</td>\n",
       "    </tr>\n",
       "    <tr>\n",
       "      <th>8</th>\n",
       "      <td>Feature</td>\n",
       "      <td>1.0.0</td>\n",
       "      <td>[]</td>\n",
       "      <td>2025-09-28 19:12:02.821376</td>\n",
       "      <td>samples/12328750_15.tif</td>\n",
       "      <td>{'xmax': 0.0, 'xmin': 0.0, 'ymax': 0.0, 'ymin'...</td>\n",
       "      <td>POLYGON EMPTY</td>\n",
       "      <td>{'asset': {'checksum': 'e569c8d909d29f2c33105e...</td>\n",
       "      <td>[]</td>\n",
       "      <td>eotdl</td>\n",
       "    </tr>\n",
       "    <tr>\n",
       "      <th>9</th>\n",
       "      <td>Feature</td>\n",
       "      <td>1.0.0</td>\n",
       "      <td>[]</td>\n",
       "      <td>2025-09-28 19:12:02.822408</td>\n",
       "      <td>samples/21929020_15.tif</td>\n",
       "      <td>{'xmax': 0.0, 'xmin': 0.0, 'ymax': 0.0, 'ymin'...</td>\n",
       "      <td>POLYGON EMPTY</td>\n",
       "      <td>{'asset': {'checksum': 'b4b880b2f84360df9dd13f...</td>\n",
       "      <td>[]</td>\n",
       "      <td>eotdl</td>\n",
       "    </tr>\n",
       "    <tr>\n",
       "      <th>10</th>\n",
       "      <td>Feature</td>\n",
       "      <td>1.0.0</td>\n",
       "      <td>[]</td>\n",
       "      <td>2025-09-28 19:12:02.823440</td>\n",
       "      <td>samples/16078870_15.tif</td>\n",
       "      <td>{'xmax': 0.0, 'xmin': 0.0, 'ymax': 0.0, 'ymin'...</td>\n",
       "      <td>POLYGON EMPTY</td>\n",
       "      <td>{'asset': {'checksum': '592051b6d648bd99dbf2b3...</td>\n",
       "      <td>[]</td>\n",
       "      <td>eotdl</td>\n",
       "    </tr>\n",
       "    <tr>\n",
       "      <th>11</th>\n",
       "      <td>Feature</td>\n",
       "      <td>1.0.0</td>\n",
       "      <td>[]</td>\n",
       "      <td>2025-09-28 19:12:02.824499</td>\n",
       "      <td>samples/11728825_15.tif</td>\n",
       "      <td>{'xmax': 0.0, 'xmin': 0.0, 'ymax': 0.0, 'ymin'...</td>\n",
       "      <td>POLYGON EMPTY</td>\n",
       "      <td>{'asset': {'checksum': '2d37d2d40e93fb9378a45d...</td>\n",
       "      <td>[]</td>\n",
       "      <td>eotdl</td>\n",
       "    </tr>\n",
       "    <tr>\n",
       "      <th>12</th>\n",
       "      <td>Feature</td>\n",
       "      <td>1.0.0</td>\n",
       "      <td>[]</td>\n",
       "      <td>2025-09-28 19:12:02.825416</td>\n",
       "      <td>samples/sample.png</td>\n",
       "      <td>{'xmax': 0.0, 'xmin': 0.0, 'ymax': 0.0, 'ymin'...</td>\n",
       "      <td>POLYGON EMPTY</td>\n",
       "      <td>{'asset': {'checksum': '08219861d2afdaf952a73b...</td>\n",
       "      <td>[]</td>\n",
       "      <td>eotdl</td>\n",
       "    </tr>\n",
       "  </tbody>\n",
       "</table>\n",
       "</div>"
      ],
      "text/plain": [
       "       type stac_version stac_extensions                   datetime  \\\n",
       "0   Feature        1.0.0              [] 2025-09-28 19:12:02.597560   \n",
       "1   Feature        1.0.0              [] 2025-09-28 19:12:02.598612   \n",
       "2   Feature        1.0.0              [] 2025-09-28 19:12:02.598848   \n",
       "3   Feature        1.0.0              [] 2025-09-28 19:12:02.735016   \n",
       "4   Feature        1.0.0              [] 2025-09-28 19:12:02.816535   \n",
       "5   Feature        1.0.0              [] 2025-09-28 19:12:02.817615   \n",
       "6   Feature        1.0.0              [] 2025-09-28 19:12:02.818592   \n",
       "7   Feature        1.0.0              [] 2025-09-28 19:12:02.819825   \n",
       "8   Feature        1.0.0              [] 2025-09-28 19:12:02.821376   \n",
       "9   Feature        1.0.0              [] 2025-09-28 19:12:02.822408   \n",
       "10  Feature        1.0.0              [] 2025-09-28 19:12:02.823440   \n",
       "11  Feature        1.0.0              [] 2025-09-28 19:12:02.824499   \n",
       "12  Feature        1.0.0              [] 2025-09-28 19:12:02.825416   \n",
       "\n",
       "                         id  \\\n",
       "0                 README.md   \n",
       "1        catalog.v1.parquet   \n",
       "2      models/hr-roads.onnx   \n",
       "3      models/s2-roads.onnx   \n",
       "4   samples/15928855_15.tif   \n",
       "5   samples/17878735_15.tif   \n",
       "6   samples/22528900_15.tif   \n",
       "7    samples/deep_globe.jpg   \n",
       "8   samples/12328750_15.tif   \n",
       "9   samples/21929020_15.tif   \n",
       "10  samples/16078870_15.tif   \n",
       "11  samples/11728825_15.tif   \n",
       "12       samples/sample.png   \n",
       "\n",
       "                                                 bbox       geometry  \\\n",
       "0   {'xmax': 0.0, 'xmin': 0.0, 'ymax': 0.0, 'ymin'...  POLYGON EMPTY   \n",
       "1   {'xmax': 0.0, 'xmin': 0.0, 'ymax': 0.0, 'ymin'...  POLYGON EMPTY   \n",
       "2   {'xmax': 0.0, 'xmin': 0.0, 'ymax': 0.0, 'ymin'...  POLYGON EMPTY   \n",
       "3   {'xmax': 0.0, 'xmin': 0.0, 'ymax': 0.0, 'ymin'...  POLYGON EMPTY   \n",
       "4   {'xmax': 0.0, 'xmin': 0.0, 'ymax': 0.0, 'ymin'...  POLYGON EMPTY   \n",
       "5   {'xmax': 0.0, 'xmin': 0.0, 'ymax': 0.0, 'ymin'...  POLYGON EMPTY   \n",
       "6   {'xmax': 0.0, 'xmin': 0.0, 'ymax': 0.0, 'ymin'...  POLYGON EMPTY   \n",
       "7   {'xmax': 0.0, 'xmin': 0.0, 'ymax': 0.0, 'ymin'...  POLYGON EMPTY   \n",
       "8   {'xmax': 0.0, 'xmin': 0.0, 'ymax': 0.0, 'ymin'...  POLYGON EMPTY   \n",
       "9   {'xmax': 0.0, 'xmin': 0.0, 'ymax': 0.0, 'ymin'...  POLYGON EMPTY   \n",
       "10  {'xmax': 0.0, 'xmin': 0.0, 'ymax': 0.0, 'ymin'...  POLYGON EMPTY   \n",
       "11  {'xmax': 0.0, 'xmin': 0.0, 'ymax': 0.0, 'ymin'...  POLYGON EMPTY   \n",
       "12  {'xmax': 0.0, 'xmin': 0.0, 'ymax': 0.0, 'ymin'...  POLYGON EMPTY   \n",
       "\n",
       "                                               assets links repository  \n",
       "0   {'asset': {'checksum': '37cff8869dbac8b8894148...    []      eotdl  \n",
       "1   {'asset': {'checksum': '1e6ea39da4a5df0bde136f...    []      eotdl  \n",
       "2   {'asset': {'checksum': '99581a42cd56f66b1649f5...    []      eotdl  \n",
       "3   {'asset': {'checksum': 'f313a4bf02afd1a6b55829...    []      eotdl  \n",
       "4   {'asset': {'checksum': 'ea9975a5a26681e17d2e4f...    []      eotdl  \n",
       "5   {'asset': {'checksum': '618fafa07c048835e078fa...    []      eotdl  \n",
       "6   {'asset': {'checksum': '6ebd2a950152c5c0bc130b...    []      eotdl  \n",
       "7   {'asset': {'checksum': '58f3fcd558510ad5888e2e...    []      eotdl  \n",
       "8   {'asset': {'checksum': 'e569c8d909d29f2c33105e...    []      eotdl  \n",
       "9   {'asset': {'checksum': 'b4b880b2f84360df9dd13f...    []      eotdl  \n",
       "10  {'asset': {'checksum': '592051b6d648bd99dbf2b3...    []      eotdl  \n",
       "11  {'asset': {'checksum': '2d37d2d40e93fb9378a45d...    []      eotdl  \n",
       "12  {'asset': {'checksum': '08219861d2afdaf952a73b...    []      eotdl  "
      ]
     },
     "execution_count": 7,
     "metadata": {},
     "output_type": "execute_result"
    }
   ],
   "source": [
    "import geopandas as gpd\n",
    "\n",
    "catalog = gpd.read_parquet(\"SCANEO/catalog.parquet\")\n",
    "\n",
    "catalog"
   ]
  },
  {
   "cell_type": "markdown",
   "metadata": {},
   "source": [
    "## Versioning\n"
   ]
  },
  {
   "cell_type": "markdown",
   "metadata": {},
   "source": [
    "By default, every time you re-upload a dataset or model a new version is created. We apply versioning at dataset/model and file level, meaning only new or modified files will be uploaded in future re-uploads, downloading the appropriate files for each version.\n"
   ]
  },
  {
   "cell_type": "code",
   "execution_count": 8,
   "metadata": {},
   "outputs": [
    {
     "name": "stdout",
     "output_type": "stream",
     "text": [
      "Ingesting folder\n",
      "Ingesting directory: SCANEO\n",
      "Preparing files: 100%|██████████████████████████| 16/16 [00:00<00:00, 72.89it/s]\n",
      "Ingesting files: 100%|██████████████████████████| 14/14 [00:03<00:00,  4.37it/s]\n",
      "A new version was created, your dataset has changed.\n",
      "Num changes: 1\n"
     ]
    }
   ],
   "source": [
    "!echo \"hello\" > SCANEO/hello.txt\n",
    "!eotdl datasets ingest -p SCANEO"
   ]
  },
  {
   "cell_type": "markdown",
   "metadata": {},
   "source": [
    "When you stage a dataset, the latest version is used by default.\n"
   ]
  },
  {
   "cell_type": "code",
   "execution_count": 9,
   "metadata": {},
   "outputs": [
    {
     "name": "stdout",
     "output_type": "stream",
     "text": [
      "Data available at /Users/fran/.cache/eotdl/datasets/scaneo-bids25\n"
     ]
    }
   ],
   "source": [
    "!eotdl datasets get scaneo-bids25"
   ]
  },
  {
   "cell_type": "markdown",
   "metadata": {},
   "source": [
    "However, you can specify the version\n"
   ]
  },
  {
   "cell_type": "code",
   "execution_count": 10,
   "metadata": {},
   "outputs": [
    {
     "name": "stdout",
     "output_type": "stream",
     "text": [
      "Data available at /Users/fran/.cache/eotdl/datasets/scaneo-bids25\n"
     ]
    }
   ],
   "source": [
    "!eotdl datasets get scaneo-bids25 -v 1 -f"
   ]
  },
  {
   "cell_type": "code",
   "execution_count": 11,
   "metadata": {},
   "outputs": [
    {
     "name": "stdout",
     "output_type": "stream",
     "text": [
      "README.md          catalog.v1.parquet catalog.v2.parquet\n"
     ]
    }
   ],
   "source": [
    "!ls $HOME/.cache/eotdl/datasets/scaneo-bids25"
   ]
  },
  {
   "cell_type": "markdown",
   "metadata": {},
   "source": [
    "You can explore the different versions in the user interface.\n"
   ]
  },
  {
   "cell_type": "markdown",
   "metadata": {},
   "source": [
    "## Ingesting through the Library\n"
   ]
  },
  {
   "cell_type": "markdown",
   "metadata": {},
   "source": [
    "You can ingest datasets and models using the library\n"
   ]
  },
  {
   "cell_type": "code",
   "execution_count": 12,
   "metadata": {},
   "outputs": [
    {
     "name": "stdout",
     "output_type": "stream",
     "text": [
      "Ingesting folder\n",
      "Ingesting directory: SCANEO\n"
     ]
    },
    {
     "name": "stderr",
     "output_type": "stream",
     "text": [
      "Preparing files: 100%|██████████| 16/16 [00:00<00:00, 95.56it/s]\n",
      "Ingesting files: 100%|██████████| 14/14 [00:02<00:00,  5.05it/s]"
     ]
    },
    {
     "name": "stdout",
     "output_type": "stream",
     "text": [
      "No new version was created, your dataset has not changed.\n"
     ]
    },
    {
     "name": "stderr",
     "output_type": "stream",
     "text": [
      "\n"
     ]
    }
   ],
   "source": [
    "from eotdl.datasets import ingest_dataset\n",
    "\n",
    "try:\n",
    "    ingest_dataset(\"SCANEO\")\n",
    "except Exception as e:\n",
    "    print(e)"
   ]
  },
  {
   "cell_type": "markdown",
   "metadata": {},
   "source": [
    "## Discussion and Contribution opportunities\n",
    "\n",
    "Feel free to ask questions now (live or through Discord) and make suggestions for future improvements.\n",
    "\n",
    "- How to do you rate the user experience ingesting a dataset?\n",
    "- What features concerning ingestion for datasets would you like to see?\n",
    "- What other features concerning versioning for datasets would you like to see?\n"
   ]
  }
 ],
 "metadata": {
  "kernelspec": {
   "display_name": ".venv",
   "language": "python",
   "name": "python3"
  },
  "language_info": {
   "codemirror_mode": {
    "name": "ipython",
    "version": 3
   },
   "file_extension": ".py",
   "mimetype": "text/x-python",
   "name": "python",
   "nbconvert_exporter": "python",
   "pygments_lexer": "ipython3",
   "version": "3.12.8"
  }
 },
 "nbformat": 4,
 "nbformat_minor": 2
}

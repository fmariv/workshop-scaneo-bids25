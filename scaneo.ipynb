{
   "cells": [
      {
         "cell_type": "markdown",
         "metadata": {},
         "source": [
            "# SCANEO\n"
         ]
      },
      {
         "cell_type": "markdown",
         "metadata": {},
         "source": [
            "Como paso final para crear nuestro conjunto de datos de entrenamiento, necesitamos preparar los datos para IA. Aquí se pueden realizar numerosas tareas, como:\n",
            "\n",
            "- **Limpieza de datos**: eliminar imágenes corruptas, eliminar imágenes con demasiada nubosidad, etc.\n",
            "- **Ingeniería de características**: calcular índices de vegetación, calcular estadísticas, etc.\n",
            "- **Análisis de datos**: representar series temporales, representar histogramas, etc.\n",
            "- **Etiquetado**: crear etiquetas para las imágenes, etc.\n",
            "\n",
            "Para cada caso, puedes usar tus herramientas favoritas. Aquí demostraremos el etiquetado con [SCANEO](https://github.com/earthpulse/scaneo).\n",
            "\n",
            "SCANEO es una aplicación web de etiquetado que permite etiquetar imágenes satelitales (para identificar, por ejemplo, objetos presentes, tipos de terreno, etc.) de forma fácil y rápida. El servicio que ofrece SCANEO es vital, ya que es necesario preparar los datos satelitales para que puedan ser procesados ​​por redes neuronales, lo que permite el aprendizaje activo.\n",
            "\n",
            "Antes de ejecutar la interfaz web, debemos asegurarnos de tener el paquete `scaneo` instalado en nuestra máquina y, si no, instalarlo.\n"
         ]
      },
      {
         "cell_type": "code",
         "execution_count": null,
         "metadata": {},
         "outputs": [],
         "source": [
            "# !uv add scaneo"
         ]
      },
      {
         "cell_type": "markdown",
         "metadata": {},
         "source": [
            "You can run `scaneo` with the following options.\n"
         ]
      },
      {
         "cell_type": "code",
         "execution_count": null,
         "metadata": {},
         "outputs": [],
         "source": [
            "!uv run scaneo --help"
         ]
      },
      {
         "cell_type": "markdown",
         "metadata": {},
         "source": [
            "Puedes ejecutar `scaneo` abriendo una terminal y ejecutando:\n",
            "\n",
            "```\n",
            "uv run scaneo\n",
            "```\n",
            "\n",
            "Luego, puedes acceder a la interfaz web en `http://localhost:8000`.\n",
            "\n",
            "> Puedes cambiar el host y el puerto con `scaneo --host 0.0.0.0 --port 8000`.\n",
            "\n",
            "¡Vamos a ver lo que nos puede ofrecer!\n"
         ]
      },
      {
         "cell_type": "markdown",
         "metadata": {},
         "source": [
            "![scaneo](img/scaneo.png)\n"
         ]
      },
      {
         "cell_type": "markdown",
         "metadata": {},
         "source": [
            "Para hacer la demostración de SCANEO vamos a utilizar un dataset diferente al que hemos creado, porque así podemos enseñar una de las mejores capacidades de SCANEO: ¡el etiquetado automático!\n",
            "\n",
            "Para ello, primero necesitamos preparar el conjunto de entrenamiento de prueba, cómo no, utilizando la CLI del EOTDL. La primera vez puede tomar un poco de tiempo, tened paciencia! Además, también estamos descargando un modelo de segmentación de carreteras.\n"
         ]
      },
      {
         "cell_type": "code",
         "execution_count": null,
         "metadata": {},
         "outputs": [],
         "source": [
            "!uv run eotdl models get SCANEO -p .. -a -f   # Como path le damos el directorio del proyecto,\n",
            "                                              # -a para que se descarguen los archivos STAC\n",
            "                                              # -f para que se fuerce la descarga"
         ]
      },
      {
         "cell_type": "markdown",
         "metadata": {},
         "source": [
            "Ahora sí, ya tenemos nuestro dataset. ¡Vamos a etiquetarlo!\n"
         ]
      },
      {
         "cell_type": "markdown",
         "metadata": {},
         "source": [
            "## Etiquetado asistido por IA\n"
         ]
      },
      {
         "cell_type": "markdown",
         "metadata": {},
         "source": [
            "Una vez hayamos jugado con las herramientas de etiquetado podemos probar la mejor funcionalidad de SCANEO, que es añadir e integrar tus propios modelos para el etiquetado automático del conjunto de entrenamiento. Como podéis imaginar, esto acelera mucho los tiempos de etiquetado.\n",
            "\n",
            "Antes de nada, debemos desplegar la API de inferencia de SCANEO. Para ello, haremos lo siguiente\n"
         ]
      },
      {
         "cell_type": "code",
         "execution_count": null,
         "metadata": {},
         "outputs": [],
         "source": [
            "!git clone https://github.com/earthpulse/scaneo ../scaneo-api"
         ]
      },
      {
         "cell_type": "markdown",
         "metadata": {},
         "source": [
            "Ahora cpiamos el modelo de `SCANEO/models/` a `scaneo-api/inference/`\n"
         ]
      },
      {
         "cell_type": "code",
         "execution_count": null,
         "metadata": {},
         "outputs": [],
         "source": [
            "cp -rf ../SCANEO/models ../scaneo-api/inference"
         ]
      },
      {
         "cell_type": "markdown",
         "metadata": {},
         "source": [
            "Y levantamos la API\n"
         ]
      },
      {
         "cell_type": "code",
         "execution_count": null,
         "metadata": {},
         "outputs": [],
         "source": [
            "!cd ../scaneo-api && make inference"
         ]
      },
      {
         "cell_type": "markdown",
         "metadata": {},
         "source": [
            "Ahora podemos ir a la API de inferencia en http://0.0.0.0:8001/docs. El modelo de segmentación de carreteras con imágenes de Sentinel-2 está en http://0.0.0.0:8001/s2-roads\n",
            "\n",
            "Ahora, para activar nuestro modelo, debemos seguir los siguientes pasos:\n",
            "\n",
            "1. Vamos a http://localhost:8000/models y creamos un nuevo modelo.\n",
            "2. Le ponemos un nombre y descripción, que puede ser algo relacionado con `SIG Libre 2025`, y como url ponemos `http://0.0.0.0:8001/s2-roads`. Como tarea, segmentación. No es necesario hacer nada más.\n",
            "3. Ahora, vamos a nuestra campaña, al apartado de settings, y añadimos nuestro modelo. Es importante indicar que para que funcione correctamente, debemos poner la clase de `roads` como 1 y las demás dejarlas vacías, sin valor, ni siquiera 0. Y guardamos.\n",
            "4. Volvemos a la campaña, seleccionamos una imagen, la clase de `roads` y en la pestaña superior izquierda, hacemos clic en `Run inference model`. ¡Y voilà! ¡Etiquetado!\n",
            "\n",
            "Con esto, las ventajas son claras. Se puede etiquetar un dataset pequeño, entrenar un modelo, y utilizar el mismo modelo para seguir etiquetando el conjunto de entrenamiento, y así iterativamente, haciéndolo mucho más rápido.\n"
         ]
      },
      {
         "cell_type": "markdown",
         "metadata": {},
         "source": [
            "## Oportunidades de discusión y contribución\n"
         ]
      },
      {
         "cell_type": "markdown",
         "metadata": {},
         "source": [
            "No dudes en hacer preguntas ahora (en directo o a través de Discord) y sugerir mejoras futuras.\n",
            "\n",
            "- ¿Ya utilizas alguna herramienta de etiquetado?\n",
            "- ¿Cuál sería tu herramienta de etiquetado ideal?\n"
         ]
      }
   ],
   "metadata": {
      "kernelspec": {
         "display_name": ".venv",
         "language": "python",
         "name": "python3"
      },
      "language_info": {
         "codemirror_mode": {
            "name": "ipython",
            "version": 3
         },
         "file_extension": ".py",
         "mimetype": "text/x-python",
         "name": "python",
         "nbconvert_exporter": "python",
         "pygments_lexer": "ipython3",
         "version": "3.12.8"
      },
      "orig_nbformat": 4
   },
   "nbformat": 4,
   "nbformat_minor": 2
}

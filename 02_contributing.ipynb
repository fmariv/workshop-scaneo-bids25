{
 "cells": [
  {
   "cell_type": "markdown",
   "metadata": {},
   "source": [
    "# Getting Involved\n"
   ]
  },
  {
   "cell_type": "markdown",
   "metadata": {},
   "source": [
    "We invite you to join our Discord server to ask questions, connect with other participants, and receive updates about the SCANEO project even after the event.\n",
    "\n",
    "1. Join the Discord server: [https://discord.gg/DnpkZnKq](https://discord.gg/DnpkZnKq)\n",
    "\n",
    "<div style=\"text-align: center;\"> <img src=\"images/discord-qr.png\" width=350> </div>\n",
    "\n",
    "Scan the QR code to join our Discord channel!\n",
    "\n",
    "2. Engage in GitHub [https://github.com/earthpulse/scaneo](https://github.com/earthpulse/scaneo/issues) issues.\n"
   ]
  }
 ],
 "metadata": {
  "language_info": {
   "name": "python"
  }
 },
 "nbformat": 4,
 "nbformat_minor": 2
}

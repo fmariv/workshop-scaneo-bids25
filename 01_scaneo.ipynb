{
   "cells": [
      {
         "cell_type": "markdown",
         "metadata": {},
         "source": [
            "# SCANEO\n"
         ]
      },
      {
         "cell_type": "markdown",
         "metadata": {},
         "source": [
            "As a final step in creating our training dataset, we need to prepare the data for AI. Numerous tasks can be performed here, such as:\n",
            "\n",
            "- **Data cleaning**: removing corrupted images, removing images with excessive cloudiness, etc.\n",
            "- **Feature engineering**: calculating vegetation indices, calculating statistics, etc.\n",
            "- **Data analysis**: plotting time series, plotting histograms, etc.\n",
            "- **Labeling**: creating labels for images, etc.\n",
            "\n",
            "For each case, you can use your favorite tools. Here we will demonstrate labeling with [SCANEO](https://github.com/earthpulse/scaneo).\n",
            "\n",
            "SCANEO is a labeling web application that allows you to label satellite images (to identify, for example, objects present, terrain types, etc.) quickly and easily. The service offered by SCANEO is vital, as it requires preparing satellite data so it can be processed by neural networks, enabling active learning.\n",
            "\n",
            "Before running the web interface, we must ensure that we have the `scaneo` package installed on our machine, and if not, install it.\n"
         ]
      },
      {
         "cell_type": "code",
         "execution_count": null,
         "metadata": {},
         "outputs": [],
         "source": [
            "# !uv add scaneo"
         ]
      },
      {
         "cell_type": "markdown",
         "metadata": {},
         "source": [
            "You can run `scaneo` with the following options.\n"
         ]
      },
      {
         "cell_type": "code",
         "execution_count": null,
         "metadata": {},
         "outputs": [],
         "source": [
            "!uv run scaneo --help"
         ]
      },
      {
         "cell_type": "markdown",
         "metadata": {},
         "source": [
            "You can run `scan` by opening a terminal and running:\n"
         ]
      },
      {
         "cell_type": "code",
         "execution_count": null,
         "metadata": {},
         "outputs": [],
         "source": [
            "!uv run scaneo"
         ]
      },
      {
         "cell_type": "markdown",
         "metadata": {},
         "source": [
            "You can then access the web interface at `http://localhost:8000`.\n",
            "\n",
            "> You can change the host and port with `scan --host 0.0.0.0 --port 8000`.\n",
            "\n",
            "Let's see what it has to offer!\n"
         ]
      },
      {
         "cell_type": "markdown",
         "metadata": {},
         "source": [
            "![scaneo](images/scaneo.png)\n"
         ]
      },
      {
         "cell_type": "markdown",
         "metadata": {},
         "source": [
            "To demonstrate SCANEO, we're going to use a different dataset than the one we created, so we can showcase one of SCANEO's best features: automatic labeling!\n",
            "\n",
            "To do this, we first need to prepare the training and test set using the EOTDL CLI. This may take a little time the first time, so be patient!\n",
            "\n",
            "The [EOTDL (Earth Observation Training Data Lab)](https://www.eotdl.com/) is an open, collaborative platform with a growing cloud-based repository of curated datasets and pre-trained models — here we are using it to quickly download a ready-to-use road segmentation dataset and model. Let's take a quick look on the platform first [here](https://www.eotdl.com/)!\n"
         ]
      },
      {
         "cell_type": "code",
         "execution_count": null,
         "metadata": {},
         "outputs": [],
         "source": [
            "!uv run eotdl models get SCANEO -p .. -a -f   # Como path le damos el directorio del proyecto,\n",
            "                                              # -a para que se descarguen los archivos STAC\n",
            "                                              # -f para que se fuerce la descarga"
         ]
      },
      {
         "cell_type": "markdown",
         "metadata": {},
         "source": [
            "Now we have our dataset. Let's label it!\n"
         ]
      },
      {
         "cell_type": "markdown",
         "metadata": {},
         "source": [
            "## AI-assisted labeling\n"
         ]
      },
      {
         "cell_type": "markdown",
         "metadata": {},
         "source": [
            "Once we've played with the labeling tools, we can try SCANEO's best feature: adding and integrating your own models to automatically label the training set. As you can imagine, this significantly speeds up labeling times.\n",
            "\n",
            "First, we need to deploy the SCANEO inference API. To do this, we'll do the following:\n"
         ]
      },
      {
         "cell_type": "code",
         "execution_count": null,
         "metadata": {},
         "outputs": [],
         "source": [
            "!git clone https://github.com/earthpulse/scaneo ../scaneo-api"
         ]
      },
      {
         "cell_type": "markdown",
         "metadata": {},
         "source": [
            "Now we copy the model from `SCANEO/models/` to `scaneo-api/inference/`\n"
         ]
      },
      {
         "cell_type": "code",
         "execution_count": null,
         "metadata": {},
         "outputs": [],
         "source": [
            "cp -rf ../SCANEO/models ../scaneo-api/inference"
         ]
      },
      {
         "cell_type": "markdown",
         "metadata": {},
         "source": [
            "And we launch the API\n"
         ]
      },
      {
         "cell_type": "code",
         "execution_count": null,
         "metadata": {},
         "outputs": [],
         "source": [
            "!cd ../scaneo-api && make inference"
         ]
      },
      {
         "cell_type": "markdown",
         "metadata": {},
         "source": [
            "Now we can go to the inference API at http://0.0.0.0:8001/docs. The road segmentation model with Sentinel-2 imagery is at http://0.0.0.0:8001/s2-roads\n",
            "\n",
            "Now, to activate our model, we must follow these steps:\n",
            "\n",
            "1. Go to http://localhost:8000/models and create a new model.\n",
            "2. Give it a name and description, which can be something related to `BiDS 2025`, and set the URL to `http://0.0.0.0:8001/s2-roads`. The task is segmentation. No further action is required.\n",
            "3. Now, go to our campaign, to the settings section, and add our model. It is important to note that for it to work correctly, we must set the `roads` class to 1 and leave the others empty, with no value, not even 0. And save.\n",
            "4. We return to the campaign, select an image, the \"roads\" class, and in the top left tab, click \"Run inference model.\" And voilà! Labeling!\n",
            "\n",
            "With this, the advantages are clear. You can label a small dataset, train a model, and use the same model to continue labeling the training set, iteratively, making it much faster.\n"
         ]
      },
      {
         "cell_type": "markdown",
         "metadata": {},
         "source": [
            "## Opportunities for discussion and contribution\n"
         ]
      },
      {
         "cell_type": "markdown",
         "metadata": {},
         "source": [
            "Feel free to ask questions now (live or via Discord) and suggest future improvements.\n",
            "\n",
            "- Do you already use a tagging tool?\n",
            "- What would be your ideal tagging tool?\n"
         ]
      }
   ],
   "metadata": {
      "kernelspec": {
         "display_name": ".venv",
         "language": "python",
         "name": "python3"
      },
      "language_info": {
         "codemirror_mode": {
            "name": "ipython",
            "version": 3
         },
         "file_extension": ".py",
         "mimetype": "text/x-python",
         "name": "python",
         "nbconvert_exporter": "python",
         "pygments_lexer": "ipython3",
         "version": "3.12.8"
      },
      "orig_nbformat": 4
   },
   "nbformat": 4,
   "nbformat_minor": 2
}

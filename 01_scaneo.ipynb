{
   "cells": [
      {
         "cell_type": "markdown",
         "metadata": {},
         "source": [
            "# SCANEO\n"
         ]
      },
      {
         "cell_type": "markdown",
         "metadata": {},
         "source": [
            "SCANEO is a labeling web application that allows you to label satellite images (to identify, for example, objects present, terrain types, etc.) quickly and easily. The service offered by SCANEO is vital, as it requires preparing satellite data so it can be processed by neural networks, enabling active learning.\n",
            "\n",
            "Before running the web interface, we must ensure that we have the `scaneo` package installed on our machine, and if not, install it.\n"
         ]
      },
      {
         "cell_type": "code",
         "execution_count": null,
         "metadata": {},
         "outputs": [],
         "source": [
            "# !uv add scaneo"
         ]
      },
      {
         "cell_type": "markdown",
         "metadata": {},
         "source": [
            "You can run `scaneo` with the following options.\n"
         ]
      },
      {
         "cell_type": "code",
         "execution_count": null,
         "metadata": {},
         "outputs": [],
         "source": [
            "!uv run scaneo --help"
         ]
      },
      {
         "cell_type": "markdown",
         "metadata": {},
         "source": [
            "You can run `scan` by opening a terminal and running:\n"
         ]
      },
      {
         "cell_type": "code",
         "execution_count": null,
         "metadata": {},
         "outputs": [],
         "source": [
            "!uv run scaneo"
         ]
      },
      {
         "cell_type": "markdown",
         "metadata": {},
         "source": [
            "You can then access the web interface at `http://localhost:8000`.\n",
            "\n",
            "> You can change the host and port with `scan --host 0.0.0.0 --port 8000`.\n",
            "\n",
            "Let's see what it has to offer!\n"
         ]
      },
      {
         "cell_type": "markdown",
         "metadata": {},
         "source": [
            "![scaneo](images/scaneo.png)\n"
         ]
      },
      {
         "cell_type": "markdown",
         "metadata": {},
         "source": [
            "Before start creating a labelling campaign, obviously we need something to label!\n",
            "\n",
            "For that, we are introducing the EOTDL. The [EOTDL (Earth Observation Training Data Lab)](https://www.eotdl.com/) is an open, collaborative platform with a growing cloud-based repository of curated datasets and pre-trained models — here we are using it to quickly download a ready-to-use road segmentation dataset and model. Let's take a look on the platform and it capabilities!\n"
         ]
      },
      {
         "cell_type": "markdown",
         "metadata": {},
         "source": [
            "## Opportunities for discussion and contribution\n"
         ]
      },
      {
         "cell_type": "markdown",
         "metadata": {},
         "source": [
            "Feel free to ask questions now (live or via Discord) and suggest future improvements.\n",
            "\n",
            "- Do you already use a tagging tool?\n",
            "- What would be your ideal tagging tool?\n"
         ]
      }
   ],
   "metadata": {
      "kernelspec": {
         "display_name": ".venv",
         "language": "python",
         "name": "python3"
      },
      "language_info": {
         "codemirror_mode": {
            "name": "ipython",
            "version": 3
         },
         "file_extension": ".py",
         "mimetype": "text/x-python",
         "name": "python",
         "nbconvert_exporter": "python",
         "pygments_lexer": "ipython3",
         "version": "3.12.8"
      },
      "orig_nbformat": 4
   },
   "nbformat": 4,
   "nbformat_minor": 2
}
